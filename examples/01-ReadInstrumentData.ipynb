{
 "cells": [
  {
   "cell_type": "code",
   "execution_count": 1,
   "id": "18753d19",
   "metadata": {},
   "outputs": [
    {
     "ename": "ModuleNotFoundError",
     "evalue": "No module named 'datacube'",
     "output_type": "error",
     "traceback": [
      "\u001b[0;31m---------------------------------------------------------------------------\u001b[0m",
      "\u001b[0;31mModuleNotFoundError\u001b[0m                       Traceback (most recent call last)",
      "\u001b[0;32m/tmp/ipykernel_9432/2194540419.py\u001b[0m in \u001b[0;36m<module>\u001b[0;34m\u001b[0m\n\u001b[1;32m      7\u001b[0m \u001b[0;32mimport\u001b[0m \u001b[0mglob\u001b[0m\u001b[0;34m\u001b[0m\u001b[0;34m\u001b[0m\u001b[0m\n\u001b[1;32m      8\u001b[0m \u001b[0;32mfrom\u001b[0m \u001b[0mredcross\u001b[0m\u001b[0;34m.\u001b[0m\u001b[0mdatacube\u001b[0m \u001b[0;32mimport\u001b[0m \u001b[0mDatacube\u001b[0m\u001b[0;34m\u001b[0m\u001b[0;34m\u001b[0m\u001b[0m\n\u001b[0;32m----> 9\u001b[0;31m \u001b[0;32mfrom\u001b[0m \u001b[0mredcross\u001b[0m\u001b[0;34m.\u001b[0m\u001b[0mread\u001b[0m \u001b[0;32mimport\u001b[0m \u001b[0mread_harpsn\u001b[0m\u001b[0;34m\u001b[0m\u001b[0;34m\u001b[0m\u001b[0m\n\u001b[0m\u001b[1;32m     10\u001b[0m \u001b[0;34m\u001b[0m\u001b[0m\n\u001b[1;32m     11\u001b[0m \u001b[0;34m\u001b[0m\u001b[0m\n",
      "\u001b[0;32m~/AstronomyLeiden/MRP/redcross/examples/../src/redcross/read.py\u001b[0m in \u001b[0;36m<module>\u001b[0;34m\u001b[0m\n\u001b[1;32m      2\u001b[0m \u001b[0;34m\u001b[0m\u001b[0m\n\u001b[1;32m      3\u001b[0m \u001b[0;34m\u001b[0m\u001b[0m\n\u001b[0;32m----> 4\u001b[0;31m \u001b[0;32mfrom\u001b[0m \u001b[0mdatacube\u001b[0m \u001b[0;32mimport\u001b[0m \u001b[0mDatacube\u001b[0m\u001b[0;34m\u001b[0m\u001b[0;34m\u001b[0m\u001b[0m\n\u001b[0m\u001b[1;32m      5\u001b[0m \u001b[0;32mimport\u001b[0m \u001b[0mnumpy\u001b[0m \u001b[0;32mas\u001b[0m \u001b[0mnp\u001b[0m\u001b[0;34m\u001b[0m\u001b[0;34m\u001b[0m\u001b[0m\n\u001b[1;32m      6\u001b[0m \u001b[0;32mfrom\u001b[0m \u001b[0mastropy\u001b[0m\u001b[0;34m.\u001b[0m\u001b[0mio\u001b[0m \u001b[0;32mimport\u001b[0m \u001b[0mfits\u001b[0m\u001b[0;34m\u001b[0m\u001b[0;34m\u001b[0m\u001b[0m\n",
      "\u001b[0;31mModuleNotFoundError\u001b[0m: No module named 'datacube'"
     ]
    }
   ],
   "source": [
    "#------ manually fix import for now\n",
    "import sys\n",
    "sys.path.append('../src/')\n",
    "#------\n",
    "\n",
    "import numpy as np\n",
    "import glob\n",
    "from redcross.datacube import Datacube\n",
    "# from redcross.read import read_harpsn\n",
    "\n",
    "\n",
    "%load_ext autoreload\n",
    "%autoreload 2"
   ]
  },
  {
   "cell_type": "markdown",
   "id": "e39d0ff8",
   "metadata": {},
   "source": [
    "## Read dataset of `e2ds` files (HARPS-N)\n",
    "The function reads a set of `M` frames with `N` orders each, with flux values for each wavelength channel `C`\n",
    "and returns a reshaped `datacube` with shape `(N,M,C)`"
   ]
  },
  {
   "cell_type": "code",
   "execution_count": null,
   "id": "8b2316ef",
   "metadata": {},
   "outputs": [],
   "source": [
    "data_dir = '/home/dario/AstronomyLeiden/MRP/wasp189/data/e2ds/night1'\n",
    "files = glob.glob(data_dir+'*.fits') # select files\n",
    "\n",
    "dc = read_harpsn(files)"
   ]
  },
  {
   "cell_type": "code",
   "execution_count": null,
   "id": "63f40622",
   "metadata": {},
   "outputs": [],
   "source": [
    "dc = Datacube()"
   ]
  },
  {
   "cell_type": "code",
   "execution_count": null,
   "id": "b06bed90",
   "metadata": {},
   "outputs": [],
   "source": []
  }
 ],
 "metadata": {
  "kernelspec": {
   "display_name": "Python 3 (ipykernel)",
   "language": "python",
   "name": "python3"
  },
  "language_info": {
   "codemirror_mode": {
    "name": "ipython",
    "version": 3
   },
   "file_extension": ".py",
   "mimetype": "text/x-python",
   "name": "python",
   "nbconvert_exporter": "python",
   "pygments_lexer": "ipython3",
   "version": "3.9.7"
  }
 },
 "nbformat": 4,
 "nbformat_minor": 5
}
