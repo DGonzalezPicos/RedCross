{
 "cells": [
  {
   "cell_type": "code",
   "execution_count": 1,
   "id": "0d4f02da",
   "metadata": {},
   "outputs": [],
   "source": [
    "#------ manually fix import for now\n",
    "import sys, os\n",
    "sys.path.append('../src/')\n",
    "#------\n",
    "import numpy as np\n",
    "import matplotlib.pyplot as plt\n",
    "import glob\n",
    "from astropy.io import fits\n",
    "from redcross.read import read_giano\n",
    "from redcross.datacube import Datacube\n",
    "from redcross.planet import Planet\n",
    "\n",
    "c = 2.99e5\n",
    "%load_ext autoreload\n",
    "%autoreload 2"
   ]
  },
  {
   "cell_type": "code",
   "execution_count": 2,
   "id": "4055ee72",
   "metadata": {},
   "outputs": [
    {
     "name": "stdout",
     "output_type": "stream",
     "text": [
      "Loading Datacube from... /home/dario/AstronomyLeiden/MRP/wasp33/posB/datacube_input_posB.npy\n"
     ]
    }
   ],
   "source": [
    "position = 'B'\n",
    "data_dir = '/home/dario/AstronomyLeiden/MRP/wasp33/pos{:}/'.format(position)\n",
    "dc = Datacube().load(data_dir+'datacube_input_pos{:}.npy'.format(position))"
   ]
  },
  {
   "cell_type": "code",
   "execution_count": 13,
   "id": "750da104",
   "metadata": {},
   "outputs": [
    {
     "name": "stdout",
     "output_type": "stream",
     "text": [
      "228.12779763929922 km / s\n"
     ]
    }
   ],
   "source": [
    "from astropy.time import Time\n",
    "import astropy.constants as const\n",
    "from astropy import units as u, coordinates as coord\n",
    "\n",
    "def mjd_to_bjd(d,RA,DEC):\n",
    "    #Convert MJD to BJD to account for light travel time. Adopted from Astropy manual.\n",
    "    t = Time(d,format='mjd',scale='tdb',location=coord.EarthLocation.from_geodetic(0,0,0))\n",
    "    target = coord.SkyCoord(RA,DEC,unit=(u.hourangle, u.deg), frame='icrs')\n",
    "    ltt_bary = t.light_travel_time(target)\n",
    "    return t.tdb + ltt_bary # = BJD\n",
    "\n",
    "#Use the equation of the circumference of a circle to calculate the orbital velocity.\n",
    "P=1.219870897  #days\n",
    "a=0.02558    #AU\n",
    "vsys=-3.     #km/s\n",
    "RA='02:26:51.0'\n",
    "DEC='+37:33:02'\n",
    "Tc=Time(2454163.22449,format='jd',scale='tdb')\n",
    "inclination=89.2 #deg\n",
    "\n",
    "v_orb = (2*np.pi*a*u.AU / (P*u.d)).to(u.km/u.s)\n",
    "print(v_orb)"
   ]
  },
  {
   "cell_type": "code",
   "execution_count": 14,
   "id": "e5181e64",
   "metadata": {},
   "outputs": [
    {
     "data": {
      "text/plain": [
       "array([0.43466234, 0.43964371, 0.44461557, 0.44958743, 0.45454978,\n",
       "       0.45952172, 0.46449358, 0.46945592, 0.47442778, 0.47939021,\n",
       "       0.48435256, 0.48932442, 0.4943153 , 0.49928715, 0.5042495 ,\n",
       "       0.51484798, 0.51985779, 0.52483916, 0.52982995, 0.53480188,\n",
       "       0.53976423, 0.54472657, 0.54969851, 0.55466086, 0.55967067,\n",
       "       0.56463301, 0.56962388, 0.57459573, 0.5795771 , 0.58453952,\n",
       "       0.58951137, 0.59449273, 0.59947401, 0.60443644, 0.60940829,\n",
       "       0.61439916, 0.6193615 , 0.62435237, 0.62932422, 0.63428656,\n",
       "       0.63925841, 0.64422083, 0.64919268, 0.65416453, 0.65912695,\n",
       "       0.6640988 , 0.66905163, 0.67401405, 0.67898589, 0.68394823,\n",
       "       0.68891065, 0.6938825 , 0.69884484, 0.70381668, 0.7087791 ,\n",
       "       0.71376989, 0.71873231, 0.72369464, 0.72866649, 0.73364784,\n",
       "       0.73861026])"
      ]
     },
     "execution_count": 14,
     "metadata": {},
     "output_type": "execute_result"
    }
   ],
   "source": [
    "phase = (mjd_to_bjd(dc.MJD,RA,DEC)-Tc).value % P /P\n",
    "phase"
   ]
  },
  {
   "cell_type": "code",
   "execution_count": null,
   "id": "c8d01983",
   "metadata": {},
   "outputs": [],
   "source": []
  }
 ],
 "metadata": {
  "kernelspec": {
   "display_name": "Python 3 (ipykernel)",
   "language": "python",
   "name": "python3"
  },
  "language_info": {
   "codemirror_mode": {
    "name": "ipython",
    "version": 3
   },
   "file_extension": ".py",
   "mimetype": "text/x-python",
   "name": "python",
   "nbconvert_exporter": "python",
   "pygments_lexer": "ipython3",
   "version": "3.9.7"
  }
 },
 "nbformat": 4,
 "nbformat_minor": 5
}
